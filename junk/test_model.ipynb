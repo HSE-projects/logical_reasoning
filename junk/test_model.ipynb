{
  "nbformat": 4,
  "nbformat_minor": 0,
  "metadata": {
    "colab": {
      "name": "logical-reasoning-dev.ipynb",
      "provenance": [],
      "collapsed_sections": [],
      "toc_visible": true
    },
    "kernelspec": {
      "name": "python3",
      "display_name": "Python 3"
    },
    "language_info": {
      "name": "python"
    },
    "accelerator": "GPU"
  },
  "cells": [
    {
      "cell_type": "markdown",
      "source": [
        "# Скачиваем и устанавливаем всё необходимое"
      ],
      "metadata": {
        "id": "uiEOHTqPV1Jt"
      }
    },
    {
      "cell_type": "markdown",
      "source": [
        "Удаляем ненужный sample_data"
      ],
      "metadata": {
        "id": "yLbSN09V6wnx"
      }
    },
    {
      "cell_type": "code",
      "source": [
        "!rm -rf sample_data"
      ],
      "metadata": {
        "id": "fexntjO7-KPI"
      },
      "execution_count": 80,
      "outputs": []
    },
    {
      "cell_type": "markdown",
      "source": [
        "Клонируем наш репозиторий"
      ],
      "metadata": {
        "id": "2guIDT-36ylr"
      }
    },
    {
      "cell_type": "code",
      "source": [
        "!git clone https://github.com/HSE-projects/logical_reasoning"
      ],
      "metadata": {
        "colab": {
          "base_uri": "https://localhost:8080/"
        },
        "id": "CTGeIr1nS2HA",
        "outputId": "88f941c0-2b4b-4f56-f319-ce74078199cd"
      },
      "execution_count": 70,
      "outputs": [
        {
          "output_type": "stream",
          "name": "stdout",
          "text": [
            "Cloning into 'logical_reasoning'...\n",
            "remote: Enumerating objects: 34, done.\u001b[K\n",
            "remote: Counting objects:   3% (1/30)\u001b[K\rremote: Counting objects:   6% (2/30)\u001b[K\rremote: Counting objects:  10% (3/30)\u001b[K\rremote: Counting objects:  13% (4/30)\u001b[K\rremote: Counting objects:  16% (5/30)\u001b[K\rremote: Counting objects:  20% (6/30)\u001b[K\rremote: Counting objects:  23% (7/30)\u001b[K\rremote: Counting objects:  26% (8/30)\u001b[K\rremote: Counting objects:  30% (9/30)\u001b[K\rremote: Counting objects:  33% (10/30)\u001b[K\rremote: Counting objects:  36% (11/30)\u001b[K\rremote: Counting objects:  40% (12/30)\u001b[K\rremote: Counting objects:  43% (13/30)\u001b[K\rremote: Counting objects:  46% (14/30)\u001b[K\rremote: Counting objects:  50% (15/30)\u001b[K\rremote: Counting objects:  53% (16/30)\u001b[K\rremote: Counting objects:  56% (17/30)\u001b[K\rremote: Counting objects:  60% (18/30)\u001b[K\rremote: Counting objects:  63% (19/30)\u001b[K\rremote: Counting objects:  66% (20/30)\u001b[K\rremote: Counting objects:  70% (21/30)\u001b[K\rremote: Counting objects:  73% (22/30)\u001b[K\rremote: Counting objects:  76% (23/30)\u001b[K\rremote: Counting objects:  80% (24/30)\u001b[K\rremote: Counting objects:  83% (25/30)\u001b[K\rremote: Counting objects:  86% (26/30)\u001b[K\rremote: Counting objects:  90% (27/30)\u001b[K\rremote: Counting objects:  93% (28/30)\u001b[K\rremote: Counting objects:  96% (29/30)\u001b[K\rremote: Counting objects: 100% (30/30)\u001b[K\rremote: Counting objects: 100% (30/30), done.\u001b[K\n",
            "remote: Compressing objects: 100% (23/23), done.\u001b[K\n",
            "remote: Total 34 (delta 4), reused 26 (delta 4), pack-reused 4\u001b[K\n",
            "Unpacking objects: 100% (34/34), done.\n",
            "/content/logical_reasoning\n"
          ]
        }
      ]
    },
    {
      "cell_type": "markdown",
      "source": [
        "Удаляем torchtext так как в модели хотят версию торча 1.6, а она не поддерживается с новым torchtext, torchvision, ..."
      ],
      "metadata": {
        "id": "MIEYHgSNy1BU"
      }
    },
    {
      "cell_type": "code",
      "source": [
        "!pip uninstall torchtext -y"
      ],
      "metadata": {
        "colab": {
          "base_uri": "https://localhost:8080/"
        },
        "id": "a10ZzMrKCuJk",
        "outputId": "12b37060-d062-4a46-b91b-21e9ace95b90"
      },
      "execution_count": 59,
      "outputs": [
        {
          "output_type": "stream",
          "name": "stdout",
          "text": [
            "\u001b[33mWARNING: Skipping torchtext as it is not installed.\u001b[0m\n"
          ]
        }
      ]
    },
    {
      "cell_type": "markdown",
      "source": [
        "Устанавливаем всё необходимое"
      ],
      "metadata": {
        "id": "RD1VwVL_60kW"
      }
    },
    {
      "cell_type": "code",
      "source": [
        "!pip install -r logical_reasoning/Self_Explaining_Structures_Improve_NLP_Models/requirements.txt\n",
        "!pip install datasets\n",
        "!pip install gdown"
      ],
      "metadata": {
        "colab": {
          "base_uri": "https://localhost:8080/"
        },
        "id": "kb5YAR651Ulk",
        "outputId": "2c31a28a-4ed2-4003-fede-0196972466f3"
      },
      "execution_count": 60,
      "outputs": [
        {
          "output_type": "stream",
          "name": "stdout",
          "text": [
            "\u001b[31mERROR: Could not open requirements file: [Errno 2] No such file or directory: 'Self_Explaining_Structures_Improve_NLP_Models/requirements.txt'\u001b[0m\n",
            "Requirement already satisfied: datasets in /usr/local/lib/python3.7/dist-packages (1.17.0)\n",
            "Requirement already satisfied: packaging in /usr/local/lib/python3.7/dist-packages (from datasets) (21.3)\n",
            "Requirement already satisfied: pandas in /usr/local/lib/python3.7/dist-packages (from datasets) (1.1.5)\n",
            "Requirement already satisfied: huggingface-hub<1.0.0,>=0.1.0 in /usr/local/lib/python3.7/dist-packages (from datasets) (0.2.1)\n",
            "Requirement already satisfied: requests>=2.19.0 in /usr/local/lib/python3.7/dist-packages (from datasets) (2.23.0)\n",
            "Requirement already satisfied: numpy>=1.17 in /usr/local/lib/python3.7/dist-packages (from datasets) (1.19.5)\n",
            "Requirement already satisfied: importlib-metadata in /usr/local/lib/python3.7/dist-packages (from datasets) (4.8.2)\n",
            "Requirement already satisfied: xxhash in /usr/local/lib/python3.7/dist-packages (from datasets) (2.0.2)\n",
            "Requirement already satisfied: aiohttp in /usr/local/lib/python3.7/dist-packages (from datasets) (3.8.1)\n",
            "Requirement already satisfied: multiprocess in /usr/local/lib/python3.7/dist-packages (from datasets) (0.70.12.2)\n",
            "Requirement already satisfied: fsspec[http]>=2021.05.0 in /usr/local/lib/python3.7/dist-packages (from datasets) (2021.11.1)\n",
            "Requirement already satisfied: dill in /usr/local/lib/python3.7/dist-packages (from datasets) (0.3.4)\n",
            "Requirement already satisfied: pyarrow!=4.0.0,>=3.0.0 in /usr/local/lib/python3.7/dist-packages (from datasets) (3.0.0)\n",
            "Requirement already satisfied: tqdm>=4.62.1 in /usr/local/lib/python3.7/dist-packages (from datasets) (4.62.3)\n",
            "Requirement already satisfied: filelock in /usr/local/lib/python3.7/dist-packages (from huggingface-hub<1.0.0,>=0.1.0->datasets) (3.4.0)\n",
            "Requirement already satisfied: pyyaml in /usr/local/lib/python3.7/dist-packages (from huggingface-hub<1.0.0,>=0.1.0->datasets) (6.0)\n",
            "Requirement already satisfied: typing-extensions>=3.7.4.3 in /usr/local/lib/python3.7/dist-packages (from huggingface-hub<1.0.0,>=0.1.0->datasets) (3.10.0.2)\n",
            "Requirement already satisfied: pyparsing!=3.0.5,>=2.0.2 in /usr/local/lib/python3.7/dist-packages (from packaging->datasets) (3.0.6)\n",
            "Requirement already satisfied: chardet<4,>=3.0.2 in /usr/local/lib/python3.7/dist-packages (from requests>=2.19.0->datasets) (3.0.4)\n",
            "Requirement already satisfied: idna<3,>=2.5 in /usr/local/lib/python3.7/dist-packages (from requests>=2.19.0->datasets) (2.10)\n",
            "Requirement already satisfied: certifi>=2017.4.17 in /usr/local/lib/python3.7/dist-packages (from requests>=2.19.0->datasets) (2021.10.8)\n",
            "Requirement already satisfied: urllib3!=1.25.0,!=1.25.1,<1.26,>=1.21.1 in /usr/local/lib/python3.7/dist-packages (from requests>=2.19.0->datasets) (1.24.3)\n",
            "Requirement already satisfied: async-timeout<5.0,>=4.0.0a3 in /usr/local/lib/python3.7/dist-packages (from aiohttp->datasets) (4.0.2)\n",
            "Requirement already satisfied: aiosignal>=1.1.2 in /usr/local/lib/python3.7/dist-packages (from aiohttp->datasets) (1.2.0)\n",
            "Requirement already satisfied: asynctest==0.13.0 in /usr/local/lib/python3.7/dist-packages (from aiohttp->datasets) (0.13.0)\n",
            "Requirement already satisfied: attrs>=17.3.0 in /usr/local/lib/python3.7/dist-packages (from aiohttp->datasets) (21.2.0)\n",
            "Requirement already satisfied: charset-normalizer<3.0,>=2.0 in /usr/local/lib/python3.7/dist-packages (from aiohttp->datasets) (2.0.8)\n",
            "Requirement already satisfied: frozenlist>=1.1.1 in /usr/local/lib/python3.7/dist-packages (from aiohttp->datasets) (1.2.0)\n",
            "Requirement already satisfied: yarl<2.0,>=1.0 in /usr/local/lib/python3.7/dist-packages (from aiohttp->datasets) (1.7.2)\n",
            "Requirement already satisfied: multidict<7.0,>=4.5 in /usr/local/lib/python3.7/dist-packages (from aiohttp->datasets) (5.2.0)\n",
            "Requirement already satisfied: zipp>=0.5 in /usr/local/lib/python3.7/dist-packages (from importlib-metadata->datasets) (3.6.0)\n",
            "Requirement already satisfied: pytz>=2017.2 in /usr/local/lib/python3.7/dist-packages (from pandas->datasets) (2018.9)\n",
            "Requirement already satisfied: python-dateutil>=2.7.3 in /usr/local/lib/python3.7/dist-packages (from pandas->datasets) (2.8.2)\n",
            "Requirement already satisfied: six>=1.5 in /usr/local/lib/python3.7/dist-packages (from python-dateutil>=2.7.3->pandas->datasets) (1.15.0)\n",
            "Requirement already satisfied: gdown in /usr/local/lib/python3.7/dist-packages (3.6.4)\n",
            "Requirement already satisfied: tqdm in /usr/local/lib/python3.7/dist-packages (from gdown) (4.62.3)\n",
            "Requirement already satisfied: six in /usr/local/lib/python3.7/dist-packages (from gdown) (1.15.0)\n",
            "Requirement already satisfied: requests in /usr/local/lib/python3.7/dist-packages (from gdown) (2.23.0)\n",
            "Requirement already satisfied: certifi>=2017.4.17 in /usr/local/lib/python3.7/dist-packages (from requests->gdown) (2021.10.8)\n",
            "Requirement already satisfied: idna<3,>=2.5 in /usr/local/lib/python3.7/dist-packages (from requests->gdown) (2.10)\n",
            "Requirement already satisfied: chardet<4,>=3.0.2 in /usr/local/lib/python3.7/dist-packages (from requests->gdown) (3.0.4)\n",
            "Requirement already satisfied: urllib3!=1.25.0,!=1.25.1,<1.26,>=1.21.1 in /usr/local/lib/python3.7/dist-packages (from requests->gdown) (1.24.3)\n"
          ]
        }
      ]
    },
    {
      "cell_type": "markdown",
      "source": [
        "Скачиваем оптимальные параметры модели"
      ],
      "metadata": {
        "id": "tio9MmTO63fj"
      }
    },
    {
      "cell_type": "code",
      "source": [
        "!gdown https://drive.google.com/uc?id=1AHMGgYFqcr3NmA-py6AMsO83w8FeNSJn  # SNLI Large\n",
        "#!gdown https://drive.google.com/uc?id=1bJVYekaOVJjI2woxqaqKMhWP0HLau105  # SNLI Base"
      ],
      "metadata": {
        "colab": {
          "base_uri": "https://localhost:8080/"
        },
        "id": "ZYgLkjR5YZGj",
        "outputId": "5e3d564a-958d-4b47-b15a-055b8c0c7ded"
      },
      "execution_count": 71,
      "outputs": [
        {
          "output_type": "stream",
          "name": "stdout",
          "text": [
            "Downloading...\n",
            "From: https://drive.google.com/uc?id=1AHMGgYFqcr3NmA-py6AMsO83w8FeNSJn\n",
            "To: /content/logical_reasoning/epoch=2-valid_loss=-0.2620-valid_acc_end=0.9223.ckpt\n",
            "100% 4.31G/4.31G [01:11<00:00, 60.6MB/s]\n"
          ]
        }
      ]
    },
    {
      "cell_type": "markdown",
      "source": [
        "Скачиваем roberta-large. Для этого надо установить [git-lfs](https://git-lfs.github.com)"
      ],
      "metadata": {
        "id": "1Mxg_h1T67gn"
      }
    },
    {
      "cell_type": "code",
      "source": [
        "!apt-get install git-lfs\n",
        "!git lfs install\n",
        "!git clone https://huggingface.co/roberta-large"
      ],
      "metadata": {
        "colab": {
          "base_uri": "https://localhost:8080/"
        },
        "id": "yfjVbL7G9CUi",
        "outputId": "17cde575-538e-449c-f000-a3d9065f7002"
      },
      "execution_count": 73,
      "outputs": [
        {
          "output_type": "stream",
          "name": "stdout",
          "text": [
            "Reading package lists... Done\n",
            "Building dependency tree       \n",
            "Reading state information... Done\n",
            "git-lfs is already the newest version (2.3.4-1).\n",
            "0 upgraded, 0 newly installed, 0 to remove and 85 not upgraded.\n",
            "Updated git hooks.\n",
            "Git LFS initialized.\n",
            "Cloning into 'roberta-large'...\n",
            "remote: Enumerating objects: 65, done.\u001b[K\n",
            "remote: Counting objects: 100% (65/65), done.\u001b[K\n",
            "remote: Compressing objects: 100% (64/64), done.\u001b[K\n",
            "remote: Total 65 (delta 29), reused 0 (delta 0)\u001b[K\n",
            "Unpacking objects: 100% (65/65), done.\n",
            "tcmalloc: large alloc 1471086592 bytes == 0x56487d132000 @  0x7f732435c2a4 0x564840d6eb9f 0x564840d4bcdb 0x564840d00e83 0x564840ca518a 0x564840ca5646 0x564840cc23b1 0x564840cc2949 0x564840cc2e73 0x564840d67892 0x564840c09112 0x564840befa15 0x564840bf06d5 0x564840bef6da 0x7f73236a2bf7 0x564840bef72a\n",
            "tcmalloc: large alloc 1471086592 bytes == 0x56487d132000 @  0x7f732435c2a4 0x564840d6eb9f 0x564840d4bcdb 0x564840d00e83 0x564840ca518a 0x564840ca5646 0x564840cc23b1 0x564840cc2949 0x564840cc2e73 0x564840d67892 0x564840c09112 0x564840befa15 0x564840bf06d5 0x564840bef6da 0x7f73236a2bf7 0x564840bef72a\n",
            "tcmalloc: large alloc 1471086592 bytes == 0x56487d132000 @  0x7f732435c2a4 0x564840d6eb9f 0x564840d4bcdb 0x564840d00e83 0x564840ca518a 0x564840ca5646 0x564840cc23b1 0x564840cc2949 0x564840cc2e73 0x564840d67892 0x564840c09112 0x564840befa15 0x564840bf06d5 0x564840bef6da 0x7f73236a2bf7 0x564840bef72a\n",
            "tcmalloc: large alloc 2206621696 bytes == 0x5648d4c22000 @  0x7f732435c2a4 0x564840d6eb9f 0x564840d4bcdb 0x564840d00e83 0x564840ca518a 0x564840ca5646 0x564840cc23b1 0x564840cc2949 0x564840cc2e73 0x564840d67892 0x564840c09112 0x564840befa15 0x564840bf06d5 0x564840bef6da 0x7f73236a2bf7 0x564840bef72a\n",
            "Filtering content: 100% (3/3), 4.17 GiB | 23.47 MiB/s, done.\n"
          ]
        }
      ]
    },
    {
      "cell_type": "markdown",
      "source": [
        "# Тестируем модель"
      ],
      "metadata": {
        "id": "lv8XGJNt7269"
      }
    },
    {
      "cell_type": "markdown",
      "source": [
        "## Тестируем модель на SNLI"
      ],
      "metadata": {
        "id": "h3OFR9NV-Okx"
      }
    },
    {
      "cell_type": "markdown",
      "source": [
        "Скачиваем и распаковываем SNLI. Также удаляем ненужные файлы."
      ],
      "metadata": {
        "id": "GJ9vIVwo7H17"
      }
    },
    {
      "cell_type": "code",
      "source": [
        "!wget https://nlp.stanford.edu/projects/snli/snli_1.0.zip\n",
        "!unzip snli_1.0.zip\n",
        "!rm -rf __MACOSX\n",
        "!rm snli_1.0.zip"
      ],
      "metadata": {
        "colab": {
          "base_uri": "https://localhost:8080/"
        },
        "id": "nmZZvftC67TH",
        "outputId": "5b135a6b-46eb-4757-c2ff-38e1bbe23263"
      },
      "execution_count": 72,
      "outputs": [
        {
          "output_type": "stream",
          "name": "stdout",
          "text": [
            "--2021-12-23 12:34:29--  https://nlp.stanford.edu/projects/snli/snli_1.0.zip\n",
            "Resolving nlp.stanford.edu (nlp.stanford.edu)... 171.64.67.140\n",
            "Connecting to nlp.stanford.edu (nlp.stanford.edu)|171.64.67.140|:443... connected.\n",
            "HTTP request sent, awaiting response... 200 OK\n",
            "Length: 94550081 (90M) [application/zip]\n",
            "Saving to: ‘snli_1.0.zip’\n",
            "\n",
            "snli_1.0.zip        100%[===================>]  90.17M  4.98MB/s    in 20s     \n",
            "\n",
            "2021-12-23 12:34:50 (4.45 MB/s) - ‘snli_1.0.zip’ saved [94550081/94550081]\n",
            "\n",
            "Archive:  snli_1.0.zip\n",
            "   creating: snli_1.0/\n",
            "  inflating: snli_1.0/.DS_Store      \n",
            "   creating: __MACOSX/\n",
            "   creating: __MACOSX/snli_1.0/\n",
            "  inflating: __MACOSX/snli_1.0/._.DS_Store  \n",
            " extracting: snli_1.0/Icon           \n",
            "  inflating: __MACOSX/snli_1.0/._Icon  \n",
            "  inflating: snli_1.0/README.txt     \n",
            "  inflating: __MACOSX/snli_1.0/._README.txt  \n",
            "  inflating: snli_1.0/snli_1.0_dev.jsonl  \n",
            "  inflating: snli_1.0/snli_1.0_dev.txt  \n",
            "  inflating: snli_1.0/snli_1.0_test.jsonl  \n",
            "  inflating: snli_1.0/snli_1.0_test.txt  \n",
            "  inflating: snli_1.0/snli_1.0_train.jsonl  \n",
            "  inflating: snli_1.0/snli_1.0_train.txt  \n",
            "  inflating: __MACOSX/._snli_1.0     \n"
          ]
        }
      ]
    },
    {
      "cell_type": "markdown",
      "source": [
        "Меняем конфиг, чтобы был `num_labels` = 3"
      ],
      "metadata": {
        "id": "mFnXxcKbdXp8"
      }
    },
    {
      "cell_type": "code",
      "source": [
        "import json\n",
        "config = json.load(open('roberta-large/config.json'))\n",
        "config['num_labels'] = 3\n",
        "with open('roberta-large/config.json', 'w') as f:\n",
        "    json.dump(config, f, indent=4)"
      ],
      "metadata": {
        "colab": {
          "base_uri": "https://localhost:8080/"
        },
        "id": "Q4F9kpFEdboT",
        "outputId": "ff422c25-1607-4ca0-aee8-3d6618fb1dab"
      },
      "execution_count": 97,
      "outputs": [
        {
          "output_type": "stream",
          "name": "stdout",
          "text": [
            "{'architectures': ['RobertaForMaskedLM'], 'attention_probs_dropout_prob': 0.1, 'bos_token_id': 0, 'eos_token_id': 2, 'hidden_act': 'gelu', 'hidden_dropout_prob': 0.1, 'hidden_size': 1024, 'initializer_range': 0.02, 'intermediate_size': 4096, 'layer_norm_eps': 1e-05, 'max_position_embeddings': 514, 'model_type': 'roberta', 'num_attention_heads': 16, 'num_hidden_layers': 24, 'pad_token_id': 1, 'type_vocab_size': 1, 'vocab_size': 50265, 'num_labels': 3}\n"
          ]
        }
      ]
    },
    {
      "cell_type": "markdown",
      "source": [
        "Запускаем тестилку:"
      ],
      "metadata": {
        "id": "zq7iS4EySVge"
      }
    },
    {
      "cell_type": "code",
      "source": [
        "!mkdir /content/snli_result\n",
        "%cd /content/logical_reasoning/Self_Explaining_Structures_Improve_NLP_Models/explain\n",
        "!python trainer.py \\\n",
        "--bert_path /content/roberta-large \\\n",
        "--data_dir /content/snli_1.0 \\\n",
        "--task snli \\\n",
        "--checkpoint_path '/content/epoch=2-valid_loss=-0.2620-valid_acc_end=0.9223.ckpt' \\\n",
        "--save_path /content/snli_result/ \\\n",
        "--gpus=0, \\\n",
        "--mode eval\n",
        "%cd /content"
      ],
      "metadata": {
        "colab": {
          "base_uri": "https://localhost:8080/"
        },
        "id": "rwNoHwe79jN0",
        "outputId": "eff468c4-9404-4524-912c-b837305f5a7d"
      },
      "execution_count": 99,
      "outputs": [
        {
          "output_type": "stream",
          "name": "stdout",
          "text": [
            "mkdir: cannot create directory ‘/content/snli_result’: File exists\n",
            "/content/logical_reasoning/Self_Explaining_Structures_Improve_NLP_Models/explain\n",
            "GPU available: True, used: True\n",
            "TPU available: False, using: 0 TPU cores\n",
            "LOCAL_RANK: 0 - CUDA_VISIBLE_DEVICES: [0]\n",
            "initializing ddp: GLOBAL_RANK: 0, MEMBER: 1/1\n",
            "Testing: 100% 983/983 [04:43<00:00,  4.26it/s]tensor(-0.7510, device='cuda:0') tensor(0.9221, device='cuda:0')\n",
            "/usr/local/lib/python3.7/dist-packages/pytorch_lightning/utilities/distributed.py:45: UserWarning: The testing_epoch_end should not return anything as of 9.1.to log, use self.log(...) or self.write(...) directly in the LightningModule\n",
            "  warnings.warn(*args, **kwargs)\n",
            "/usr/local/lib/python3.7/dist-packages/pytorch_lightning/utilities/distributed.py:45: UserWarning: The {log:dict keyword} was deprecated in 0.9.1 and will be removed in 1.0.0\n",
            "Please use self.log(...) inside the lightningModule instead.\n",
            "\n",
            "# log on a step or aggregate epoch metric to the logger and/or progress bar\n",
            "# (inside LightningModule)\n",
            "self.log('train_loss', loss, on_step=True, on_epoch=True, prog_bar=True)\n",
            "  warnings.warn(*args, **kwargs)\n",
            "--------------------------------------------------------------------------------\n",
            "DATALOADER:0 TEST RESULTS\n",
            "{'test_acc': tensor(0.9221, device='cuda:0'),\n",
            " 'test_loss': tensor(-0.7510, device='cuda:0'),\n",
            " 'val_loss': tensor(-0.7510, device='cuda:0')}\n",
            "--------------------------------------------------------------------------------\n",
            "Testing: 100% 983/983 [04:43<00:00,  3.47it/s]\n",
            "/content\n"
          ]
        }
      ]
    },
    {
      "cell_type": "code",
      "source": [
        "ls"
      ],
      "metadata": {
        "colab": {
          "base_uri": "https://localhost:8080/"
        },
        "id": "ibiWmlLhsFcW",
        "outputId": "8d944caf-533e-4947-b820-5d4843f487f8"
      },
      "execution_count": 119,
      "outputs": [
        {
          "output_type": "stream",
          "name": "stdout",
          "text": [
            "'epoch=2-valid_loss=-0.2620-valid_acc_end=0.9223.ckpt'   SICK.zip\n",
            " \u001b[0m\u001b[01;34mlogical_reasoning\u001b[0m/                                      \u001b[01;34msnli_1.0\u001b[0m/\n",
            " \u001b[01;34mroberta-large\u001b[0m/                                          \u001b[01;34msnli_result\u001b[0m/\n"
          ]
        }
      ]
    },
    {
      "cell_type": "markdown",
      "source": [
        "## Тестируем модель на SICK"
      ],
      "metadata": {
        "id": "Dfj49Ehh7lQs"
      }
    },
    {
      "cell_type": "code",
      "source": [
        "!mkdir /content/sick_result\n",
        "%cd /content/logical_reasoning/Self_Explaining_Structures_Improve_NLP_Models/explain\n",
        "!python trainer.py \\\n",
        "--bert_path /content/roberta-large \\\n",
        "--task sick \\\n",
        "--checkpoint_path '/content/epoch=2-valid_loss=-0.2620-valid_acc_end=0.9223.ckpt' \\\n",
        "--save_path /content/sick_result/ \\\n",
        "--gpus=0, \\\n",
        "--mode eval\n",
        "%cd /content"
      ],
      "metadata": {
        "colab": {
          "base_uri": "https://localhost:8080/"
        },
        "id": "h9XnJIboego5",
        "outputId": "8ebdc904-0744-49b8-a5a2-69dca5ff4961"
      },
      "execution_count": 153,
      "outputs": [
        {
          "output_type": "stream",
          "name": "stdout",
          "text": [
            "mkdir: cannot create directory ‘/content/sick_result’: File exists\n",
            "/content/logical_reasoning/Self_Explaining_Structures_Improve_NLP_Models/explain\n",
            "GPU available: True, used: True\n",
            "TPU available: False, using: 0 TPU cores\n",
            "LOCAL_RANK: 0 - CUDA_VISIBLE_DEVICES: [0]\n",
            "initializing ddp: GLOBAL_RANK: 0, MEMBER: 1/1\n",
            "Using custom data configuration default\n",
            "Reusing dataset sick (/root/.cache/huggingface/datasets/sick/default/0.0.0/c6b3b0b44eb84b134851396d6d464e5cb8f026960519d640e087fe33472626db)\n",
            "100% 3/3 [00:00<00:00, 296.66it/s]\n",
            "Testing: 100% 491/491 [02:03<00:00,  4.32it/s]tensor(0.9206, device='cuda:0') tensor(0.6128, device='cuda:0')\n",
            "/usr/local/lib/python3.7/dist-packages/pytorch_lightning/utilities/distributed.py:45: UserWarning: The testing_epoch_end should not return anything as of 9.1.to log, use self.log(...) or self.write(...) directly in the LightningModule\n",
            "  warnings.warn(*args, **kwargs)\n",
            "/usr/local/lib/python3.7/dist-packages/pytorch_lightning/utilities/distributed.py:45: UserWarning: The {log:dict keyword} was deprecated in 0.9.1 and will be removed in 1.0.0\n",
            "Please use self.log(...) inside the lightningModule instead.\n",
            "\n",
            "# log on a step or aggregate epoch metric to the logger and/or progress bar\n",
            "# (inside LightningModule)\n",
            "self.log('train_loss', loss, on_step=True, on_epoch=True, prog_bar=True)\n",
            "  warnings.warn(*args, **kwargs)\n",
            "--------------------------------------------------------------------------------\n",
            "DATALOADER:0 TEST RESULTS\n",
            "{'test_acc': tensor(0.6128, device='cuda:0'),\n",
            " 'test_loss': tensor(0.9206, device='cuda:0'),\n",
            " 'val_loss': tensor(0.9206, device='cuda:0')}\n",
            "--------------------------------------------------------------------------------\n",
            "Testing: 100% 491/491 [02:03<00:00,  3.98it/s]\n",
            "/content\n"
          ]
        }
      ]
    },
    {
      "cell_type": "markdown",
      "source": [
        "## Тестируем модель на ANLI"
      ],
      "metadata": {
        "id": "BVXdgyEZ9Z6B"
      }
    },
    {
      "cell_type": "code",
      "source": [
        "!mkdir /content/anli_result\n",
        "%cd /content/logical_reasoning/Self_Explaining_Structures_Improve_NLP_Models/explain\n",
        "!python trainer.py \\\n",
        "--bert_path /content/roberta-large \\\n",
        "--task anli \\\n",
        "--checkpoint_path '/content/epoch=2-valid_loss=-0.2620-valid_acc_end=0.9223.ckpt' \\\n",
        "--save_path /content/anli_result/ \\\n",
        "--gpus=0, \\\n",
        "--mode eval\n",
        "%cd /content"
      ],
      "metadata": {
        "colab": {
          "base_uri": "https://localhost:8080/"
        },
        "id": "EIUyostR9gz1",
        "outputId": "238ca25b-a3b6-452a-f1ae-13b81b9316d7"
      },
      "execution_count": 174,
      "outputs": [
        {
          "output_type": "stream",
          "name": "stdout",
          "text": [
            "mkdir: cannot create directory ‘/content/anli_result’: File exists\n",
            "/content/logical_reasoning/Self_Explaining_Structures_Improve_NLP_Models/explain\n",
            "GPU available: True, used: True\n",
            "TPU available: False, using: 0 TPU cores\n",
            "LOCAL_RANK: 0 - CUDA_VISIBLE_DEVICES: [0]\n",
            "initializing ddp: GLOBAL_RANK: 0, MEMBER: 1/1\n",
            "Reusing dataset anli (/root/.cache/huggingface/datasets/anli/plain_text/0.1.0/aabce88453b06dff21c201855ea83283bab0390bff746deadb30b65695755c0b)\n",
            "100% 9/9 [00:00<00:00, 33.45it/s]\n",
            "Testing: 100% 320/320 [05:18<00:00,  1.07s/it]tensor(0.9820, device='cuda:0') tensor(0.3278, device='cuda:0')\n",
            "/usr/local/lib/python3.7/dist-packages/pytorch_lightning/utilities/distributed.py:45: UserWarning: The testing_epoch_end should not return anything as of 9.1.to log, use self.log(...) or self.write(...) directly in the LightningModule\n",
            "  warnings.warn(*args, **kwargs)\n",
            "/usr/local/lib/python3.7/dist-packages/pytorch_lightning/utilities/distributed.py:45: UserWarning: The {log:dict keyword} was deprecated in 0.9.1 and will be removed in 1.0.0\n",
            "Please use self.log(...) inside the lightningModule instead.\n",
            "\n",
            "# log on a step or aggregate epoch metric to the logger and/or progress bar\n",
            "# (inside LightningModule)\n",
            "self.log('train_loss', loss, on_step=True, on_epoch=True, prog_bar=True)\n",
            "  warnings.warn(*args, **kwargs)\n",
            "--------------------------------------------------------------------------------\n",
            "DATALOADER:0 TEST RESULTS\n",
            "{'test_acc': tensor(0.3278, device='cuda:0'),\n",
            " 'test_loss': tensor(0.9820, device='cuda:0'),\n",
            " 'val_loss': tensor(0.9820, device='cuda:0')}\n",
            "--------------------------------------------------------------------------------\n",
            "Testing: 100% 320/320 [05:18<00:00,  1.01it/s]\n",
            "/content\n"
          ]
        }
      ]
    },
    {
      "cell_type": "markdown",
      "source": [
        "# Итог"
      ],
      "metadata": {
        "id": "PuX79y4pyABJ"
      }
    },
    {
      "cell_type": "markdown",
      "source": [
        "\n",
        "| Датасет | test_acc | test_loss | val_loss |\n",
        "|---------|----------|-----------|----------|\n",
        "| SNLI    | 0.9221   | -0.7510   | -0.7510  |\n",
        "| SICK    | 0.6128   | 0.9206    | 0.9206   |\n",
        "| ANLI    | 0.3278   | 0.9820    | 0.9820   |"
      ],
      "metadata": {
        "id": "eS166-FtysXD"
      }
    }
  ]
}