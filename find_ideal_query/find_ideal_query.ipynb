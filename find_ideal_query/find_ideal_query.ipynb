{
 "cells": [
  {
   "cell_type": "code",
   "execution_count": 15,
   "id": "6fc7363a-3627-49ee-98e3-ff70d44cea43",
   "metadata": {},
   "outputs": [
    {
     "name": "stdout",
     "output_type": "stream",
     "text": [
      "env: CUDA_VISIBLE_DEVICES=0\n",
      "env: OFFLINE_MODE=true\n"
     ]
    }
   ],
   "source": [
    "%env CUDA_VISIBLE_DEVICES=0\n",
    "%env OFFLINE_MODE=true"
   ]
  },
  {
   "cell_type": "code",
   "execution_count": null,
   "id": "98a74507",
   "metadata": {},
   "outputs": [],
   "source": [
    "%env DATASET_NAME=snli\n",
    "%env SEED=42\n",
    "%env TRAIN_DATASET_NAME=train\n",
    "%env VALID_DATASET_NAME=validation\n",
    "%env PREMISE_COLUMN_NAME=premise\n",
    "%env HYPOTHESIS_COLUMN_NAME=hypothesis\n",
    "%run find_ideal_query.py\n",
    "!mv workdir snli_42"
   ]
  },
  {
   "cell_type": "code",
   "execution_count": null,
   "id": "ce31785b-8224-4333-bf04-5750d50189a5",
   "metadata": {
    "scrolled": true,
    "tags": []
   },
   "outputs": [],
   "source": [
    "%env DATASET_NAME=sick\n",
    "%env SEED=42\n",
    "%env TRAIN_DATASET_NAME=train\n",
    "%env VALID_DATASET_NAME=validation\n",
    "%env PREMISE_COLUMN_NAME=sentence_A\n",
    "%env HYPOTHESIS_COLUMN_NAME=sentence_B\n",
    "%run find_ideal_query.py\n",
    "!mv workdir sick_42"
   ]
  },
  {
   "cell_type": "code",
   "execution_count": null,
   "id": "de7cbaea-a8a1-4e0a-bbae-a2d40502a450",
   "metadata": {
    "scrolled": true,
    "tags": []
   },
   "outputs": [],
   "source": [
    "%env DATASET_NAME=anli\n",
    "%env SEED=42\n",
    "%env TRAIN_DATASET_NAME=train_r1\n",
    "%env VALID_DATASET_NAME=dev_r1\n",
    "%env PREMISE_COLUMN_NAME=premise\n",
    "%env HYPOTHESIS_COLUMN_NAME=hypothesis\n",
    "%run find_ideal_query.py\n",
    "!mv workdir anli_42"
   ]
  },
  {
   "cell_type": "code",
   "execution_count": null,
   "id": "2e3f941d-9032-4bd1-809f-face4f668038",
   "metadata": {
    "scrolled": true,
    "tags": []
   },
   "outputs": [],
   "source": [
    "%env DATASET_NAME=multi_nli\n",
    "%env SEED=42\n",
    "%env TRAIN_DATASET_NAME=train\n",
    "%env VALID_DATASET_NAME=validation_matched\n",
    "%env PREMISE_COLUMN_NAME=premise\n",
    "%env HYPOTHESIS_COLUMN_NAME=hypothesis\n",
    "%run find_ideal_query.py\n",
    "!mv workdir mnli_42"
   ]
  },
  {
   "cell_type": "code",
   "execution_count": null,
   "id": "cda90b23-42de-44bd-90c4-b53116873b5f",
   "metadata": {
    "scrolled": true,
    "tags": []
   },
   "outputs": [],
   "source": [
    "%env DATASET_NAME=snli\n",
    "%env SEED=34\n",
    "%env TRAIN_DATASET_NAME=train\n",
    "%env VALID_DATASET_NAME=validation\n",
    "%env PREMISE_COLUMN_NAME=premise\n",
    "%env HYPOTHESIS_COLUMN_NAME=hypothesis\n",
    "%run find_ideal_query.py\n",
    "!mv workdir snli_34"
   ]
  },
  {
   "cell_type": "code",
   "execution_count": null,
   "id": "985dcab1-eae2-40b3-8bcf-2ccf09692442",
   "metadata": {
    "scrolled": true,
    "tags": []
   },
   "outputs": [],
   "source": [
    "%env DATASET_NAME=sick\n",
    "%env SEED=34\n",
    "%env TRAIN_DATASET_NAME=train\n",
    "%env VALID_DATASET_NAME=validation\n",
    "%env PREMISE_COLUMN_NAME=sentence_A\n",
    "%env HYPOTHESIS_COLUMN_NAME=sentence_B\n",
    "%run find_ideal_query.py\n",
    "!mv workdir sick_34"
   ]
  },
  {
   "cell_type": "code",
   "execution_count": null,
   "id": "f95e3af6-b61c-4306-9cee-720e38e124b2",
   "metadata": {
    "scrolled": true,
    "tags": []
   },
   "outputs": [],
   "source": [
    "%env DATASET_NAME=anli\n",
    "%env SEED=34\n",
    "%env TRAIN_DATASET_NAME=train_r1\n",
    "%env VALID_DATASET_NAME=dev_r1\n",
    "%env PREMISE_COLUMN_NAME=premise\n",
    "%env HYPOTHESIS_COLUMN_NAME=hypothesis\n",
    "%run find_ideal_query.py\n",
    "!mv workdir anli_34"
   ]
  },
  {
   "cell_type": "code",
   "execution_count": null,
   "id": "e80865b7-9624-452e-805f-d00567afa352",
   "metadata": {
    "scrolled": true,
    "tags": []
   },
   "outputs": [],
   "source": [
    "%env DATASET_NAME=multi_nli\n",
    "%env SEED=34\n",
    "%env TRAIN_DATASET_NAME=train\n",
    "%env VALID_DATASET_NAME=validation_matched\n",
    "%env PREMISE_COLUMN_NAME=premise\n",
    "%env HYPOTHESIS_COLUMN_NAME=hypothesis\n",
    "%run find_ideal_query.py\n",
    "!mv workdir mnli_34"
   ]
  },
  {
   "cell_type": "code",
   "execution_count": null,
   "id": "630984bd-d3f7-4176-b63d-668415bedcc4",
   "metadata": {},
   "outputs": [],
   "source": []
  }
 ],
 "metadata": {
  "kernelspec": {
   "display_name": "Python 3 (ipykernel)",
   "language": "python",
   "name": "python3"
  },
  "language_info": {
   "codemirror_mode": {
    "name": "ipython",
    "version": 3
   },
   "file_extension": ".py",
   "mimetype": "text/x-python",
   "name": "python",
   "nbconvert_exporter": "python",
   "pygments_lexer": "ipython3",
   "version": "3.9.7"
  }
 },
 "nbformat": 4,
 "nbformat_minor": 5
}
